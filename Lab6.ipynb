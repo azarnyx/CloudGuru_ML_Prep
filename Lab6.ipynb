{
 "cells": [
  {
   "cell_type": "code",
   "execution_count": 1,
   "id": "empirical-bangladesh",
   "metadata": {},
   "outputs": [],
   "source": [
    "import pandas as pd\n",
    "from sklearn.cluster import KMeans"
   ]
  },
  {
   "cell_type": "code",
   "execution_count": 2,
   "id": "weighted-adapter",
   "metadata": {},
   "outputs": [],
   "source": [
    "df = pd.read_csv('https://raw.githubusercontent.com/ACloudGuru-Resources/Course_AWS_Certified_Machine_Learning/master/Chapter6/ufo_fullset.csv')"
   ]
  },
  {
   "cell_type": "code",
   "execution_count": 3,
   "id": "sitting-australian",
   "metadata": {},
   "outputs": [],
   "source": [
    "dfx = df.loc[:, ['latitude', 'longitude']]"
   ]
  },
  {
   "cell_type": "code",
   "execution_count": 4,
   "id": "respective-truth",
   "metadata": {},
   "outputs": [],
   "source": [
    "model = KMeans(n_clusters=10)"
   ]
  },
  {
   "cell_type": "code",
   "execution_count": 5,
   "id": "liquid-activation",
   "metadata": {},
   "outputs": [
    {
     "data": {
      "text/plain": [
       "KMeans(algorithm='auto', copy_x=True, init='k-means++', max_iter=300,\n",
       "       n_clusters=10, n_init=10, n_jobs=None, precompute_distances='auto',\n",
       "       random_state=None, tol=0.0001, verbose=0)"
      ]
     },
     "execution_count": 5,
     "metadata": {},
     "output_type": "execute_result"
    }
   ],
   "source": [
    "model.fit(dfx)"
   ]
  },
  {
   "cell_type": "code",
   "execution_count": 6,
   "id": "motivated-powder",
   "metadata": {},
   "outputs": [],
   "source": [
    "df_centers = pd.DataFrame(model.cluster_centers_)"
   ]
  },
  {
   "cell_type": "code",
   "execution_count": 7,
   "id": "cardiac-drink",
   "metadata": {},
   "outputs": [],
   "source": [
    "df_centers.columns = dfx.columns"
   ]
  },
  {
   "cell_type": "code",
   "execution_count": 8,
   "id": "collected-diabetes",
   "metadata": {},
   "outputs": [],
   "source": [
    "df_centers.to_csv(\"Cluster_Centers.csv\")\n",
    "df.to_csv(\"ufo_fullset.csv\")"
   ]
  },
  {
   "cell_type": "code",
   "execution_count": 10,
   "id": "colored-lightweight",
   "metadata": {},
   "outputs": [
    {
     "name": "stdout",
     "output_type": "stream",
     "text": [
      "arn:aws:iam::889898167350:role/service-role/AmazonSageMakerServiceCatalogProductsUseRole\n"
     ]
    }
   ],
   "source": [
    "from sagemaker import get_execution_role\n",
    "\n",
    "role = get_execution_role()\n",
    "print(role)"
   ]
  },
  {
   "cell_type": "code",
   "execution_count": 15,
   "id": "opposite-charlotte",
   "metadata": {},
   "outputs": [],
   "source": [
    "import boto3\n",
    "\n",
    "s3 = boto3.resource('s3')\n",
    "s3.meta.client.upload_file(\"ufo_fullset.csv\", 'azarnyxtraining', \"lab6/ufo_fullset.csv\")"
   ]
  },
  {
   "cell_type": "code",
   "execution_count": 16,
   "id": "suspected-seminar",
   "metadata": {},
   "outputs": [],
   "source": [
    "s3.meta.client.upload_file(\"ufo_fullset.csv\", 'azarnyxtraining', \"lab6/CLuster_Ceneters.csv\")"
   ]
  }
 ],
 "metadata": {
  "kernelspec": {
   "display_name": "conda_python3",
   "language": "python",
   "name": "conda_python3"
  },
  "language_info": {
   "codemirror_mode": {
    "name": "ipython",
    "version": 3
   },
   "file_extension": ".py",
   "mimetype": "text/x-python",
   "name": "python",
   "nbconvert_exporter": "python",
   "pygments_lexer": "ipython3",
   "version": "3.6.10"
  }
 },
 "nbformat": 4,
 "nbformat_minor": 5
}
